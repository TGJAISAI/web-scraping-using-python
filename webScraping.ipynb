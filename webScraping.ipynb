{
  "nbformat": 4,
  "nbformat_minor": 0,
  "metadata": {
    "colab": {
      "name": "webScraping.ipynb",
      "provenance": [],
      "authorship_tag": "ABX9TyOhv2xMEpFZ/bFEjm+LStlY",
      "include_colab_link": true
    },
    "kernelspec": {
      "name": "python3",
      "display_name": "Python 3"
    },
    "language_info": {
      "name": "python"
    }
  },
  "cells": [
    {
      "cell_type": "markdown",
      "metadata": {
        "id": "view-in-github",
        "colab_type": "text"
      },
      "source": [
        "<a href=\"https://colab.research.google.com/github/TGJAISAI/web-scraping-using-python/blob/main/webScraping.ipynb\" target=\"_parent\"><img src=\"https://colab.research.google.com/assets/colab-badge.svg\" alt=\"Open In Colab\"/></a>"
      ]
    },
    {
      "cell_type": "code",
      "execution_count": 1,
      "metadata": {
        "colab": {
          "base_uri": "https://localhost:8080/"
        },
        "id": "pNfGLZK7fyIz",
        "outputId": "7f63024a-efa2-47a2-c9c5-bdbdcf7fbb8a"
      },
      "outputs": [
        {
          "output_type": "stream",
          "name": "stdout",
          "text": [
            "Looking in indexes: https://pypi.org/simple, https://us-python.pkg.dev/colab-wheels/public/simple/\n",
            "Requirement already satisfied: beautifulsoup4 in /usr/local/lib/python3.7/dist-packages (4.6.3)\n"
          ]
        }
      ],
      "source": [
        "!pip install beautifulsoup4"
      ]
    },
    {
      "cell_type": "code",
      "source": [
        "!pip install bs4"
      ],
      "metadata": {
        "colab": {
          "base_uri": "https://localhost:8080/"
        },
        "id": "mxjlqk8JgeNR",
        "outputId": "89686ba2-d3c9-4792-cc8a-835aaafe16e2"
      },
      "execution_count": 2,
      "outputs": [
        {
          "output_type": "stream",
          "name": "stdout",
          "text": [
            "Looking in indexes: https://pypi.org/simple, https://us-python.pkg.dev/colab-wheels/public/simple/\n",
            "Requirement already satisfied: bs4 in /usr/local/lib/python3.7/dist-packages (0.0.1)\n",
            "Requirement already satisfied: beautifulsoup4 in /usr/local/lib/python3.7/dist-packages (from bs4) (4.6.3)\n"
          ]
        }
      ]
    },
    {
      "cell_type": "code",
      "source": [
        "!pip install requests"
      ],
      "metadata": {
        "colab": {
          "base_uri": "https://localhost:8080/"
        },
        "id": "q7obw91wpg4I",
        "outputId": "67bb5f7d-4661-43be-90c2-d39829d72cdc"
      },
      "execution_count": 13,
      "outputs": [
        {
          "output_type": "stream",
          "name": "stdout",
          "text": [
            "Looking in indexes: https://pypi.org/simple, https://us-python.pkg.dev/colab-wheels/public/simple/\n",
            "Requirement already satisfied: requests in /usr/local/lib/python3.7/dist-packages (2.23.0)\n",
            "Requirement already satisfied: idna<3,>=2.5 in /usr/local/lib/python3.7/dist-packages (from requests) (2.10)\n",
            "Requirement already satisfied: chardet<4,>=3.0.2 in /usr/local/lib/python3.7/dist-packages (from requests) (3.0.4)\n",
            "Requirement already satisfied: urllib3!=1.25.0,!=1.25.1,<1.26,>=1.21.1 in /usr/local/lib/python3.7/dist-packages (from requests) (1.24.3)\n",
            "Requirement already satisfied: certifi>=2017.4.17 in /usr/local/lib/python3.7/dist-packages (from requests) (2022.5.18.1)\n"
          ]
        }
      ]
    },
    {
      "cell_type": "code",
      "source": [
        "import requests\n",
        "from bs4 import BeautifulSoup "
      ],
      "metadata": {
        "id": "4CF435yssia2"
      },
      "execution_count": 14,
      "outputs": []
    },
    {
      "cell_type": "code",
      "source": [
        "page = input(\"enter the page number:\")\n",
        "for i in range(1,int(page)+1):"
      ],
      "metadata": {
        "id": "0gcLTxM_yR9_"
      },
      "execution_count": null,
      "outputs": []
    },
    {
      "cell_type": "code",
      "source": [
        "ipohoneReviews = []\n",
        "page = input(\"enter the page number:\")\n",
        "for i in range(1,int(page)+1):\n",
        "    URL = 'https://www.flipkart.com/apple-iphone-13-pro-max-graphite-512-gb/product-reviews/itmbe5170f10a29f?pid=MOBG6VF5MNKYGQMA&lid=LSTMOBG6VF5MNKYGQMA3Q2IN7&marketplace=FLIPKART&page='+str(i)\n",
        "    req = requests.get(URL)\n",
        "    soup = BeautifulSoup(req.text, 'html.parser')\n",
        "    Reviews = soup.find_all(\"div\",{\"class\":\"row\"})\n",
        "    print('Reviews in page'+str(i))\n",
        "    print(len(Reviews))\n",
        "   \n",
        "    for i in Reviews:\n",
        "        ipohoneReviews.append(i.text)\n",
        "\n",
        "  \n"
      ],
      "metadata": {
        "colab": {
          "base_uri": "https://localhost:8080/"
        },
        "id": "F-aNgBCRsnzT",
        "outputId": "337d0f5d-b2c1-48df-8661-69ed84307953"
      },
      "execution_count": 26,
      "outputs": [
        {
          "output_type": "stream",
          "name": "stdout",
          "text": [
            "enter the page number:10\n",
            "Reviews in page1\n",
            "56\n",
            "Reviews in page2\n",
            "56\n",
            "Reviews in page3\n",
            "56\n",
            "Reviews in page4\n",
            "56\n",
            "Reviews in page5\n",
            "2\n",
            "Reviews in page6\n",
            "56\n",
            "Reviews in page7\n",
            "56\n",
            "Reviews in page8\n",
            "56\n",
            "Reviews in page9\n",
            "56\n",
            "Reviews in page10\n",
            "56\n"
          ]
        }
      ]
    },
    {
      "cell_type": "code",
      "source": [
        "for i in ipohoneReviews:\n",
        "    print(i)"
      ],
      "metadata": {
        "id": "qGROiEhx3IjZ"
      },
      "execution_count": null,
      "outputs": []
    },
    {
      "cell_type": "code",
      "source": [
        "import pandas as pd\n",
        "data =(ipohoneReviews)\n",
        "df = pd.DataFrame(data)\n",
        "print(df)"
      ],
      "metadata": {
        "colab": {
          "base_uri": "https://localhost:8080/"
        },
        "id": "MZCxEoAc30mA",
        "outputId": "4e812c87-f047-4600-d96e-8e0fa678aaa8"
      },
      "execution_count": 33,
      "outputs": [
        {
          "output_type": "stream",
          "name": "stdout",
          "text": [
            "                                                     0\n",
            "0    4.6★1,074 Ratings &123 Reviews5★4★3★2★1★909671...\n",
            "1                                                 4.6★\n",
            "2                                      1,074 Ratings &\n",
            "3                                          123 Reviews\n",
            "4                                           5Fabulous!\n",
            "..                                                 ...\n",
            "501  Gaurang  PatelCertified Buyer, Gandhinagar4 mo...\n",
            "502  Gaurang  PatelCertified Buyer, Gandhinagar4 mo...\n",
            "503                            11PermalinkReport Abuse\n",
            "504                                                   \n",
            "505  ABOUTContact UsAbout UsCareersFlipkart Stories...\n",
            "\n",
            "[506 rows x 1 columns]\n"
          ]
        }
      ]
    },
    {
      "cell_type": "code",
      "source": [
        "df.to_csv(\"Reviews.csv\")"
      ],
      "metadata": {
        "id": "WcBmFnPA-BT1"
      },
      "execution_count": 34,
      "outputs": []
    }
  ]
}